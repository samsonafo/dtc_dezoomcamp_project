{
 "cells": [
  {
   "cell_type": "code",
   "execution_count": 1,
   "metadata": {},
   "outputs": [],
   "source": [
    "import pandas as pd\n",
    "import pyarrow.csv as pv"
   ]
  },
  {
   "cell_type": "code",
   "execution_count": 3,
   "metadata": {},
   "outputs": [],
   "source": [
    "import zipfile\n",
    "with zipfile.ZipFile('JC-202001-citibike-tripdata.csv.zip',\"r\") as zip_ref:\n",
    "    zip_ref.extractall()"
   ]
  },
  {
   "cell_type": "code",
   "execution_count": 4,
   "metadata": {},
   "outputs": [],
   "source": [
    "file = 'JC-202001-citibike-tripdata.csv.zip'\n",
    "\n",
    "file = file.replace('.zip','')"
   ]
  },
  {
   "cell_type": "code",
   "execution_count": 5,
   "metadata": {},
   "outputs": [],
   "source": [
    "import pyarrow.csv as pv\n",
    "import pyarrow.parquet as pq\n",
    "\n",
    "table = pv.read_csv(file)\n",
    "pq.write_table(table, file.replace('csv', 'parquet'))"
   ]
  },
  {
   "cell_type": "code",
   "execution_count": 6,
   "metadata": {},
   "outputs": [
    {
     "data": {
      "text/html": "<div>\n<style scoped>\n    .dataframe tbody tr th:only-of-type {\n        vertical-align: middle;\n    }\n\n    .dataframe tbody tr th {\n        vertical-align: top;\n    }\n\n    .dataframe thead th {\n        text-align: right;\n    }\n</style>\n<table border=\"1\" class=\"dataframe\">\n  <thead>\n    <tr style=\"text-align: right;\">\n      <th></th>\n      <th>tripduration</th>\n      <th>starttime</th>\n      <th>stoptime</th>\n      <th>start station id</th>\n      <th>start station name</th>\n      <th>start station latitude</th>\n      <th>start station longitude</th>\n      <th>end station id</th>\n      <th>end station name</th>\n      <th>end station latitude</th>\n      <th>end station longitude</th>\n      <th>bikeid</th>\n      <th>usertype</th>\n      <th>birth year</th>\n      <th>gender</th>\n    </tr>\n  </thead>\n  <tbody>\n    <tr>\n      <th>0</th>\n      <td>226</td>\n      <td>2020-01-01 00:04:50.1920</td>\n      <td>2020-01-01 00:08:37.0370</td>\n      <td>3186</td>\n      <td>Grove St PATH</td>\n      <td>40.719586</td>\n      <td>-74.043117</td>\n      <td>3211</td>\n      <td>Newark Ave</td>\n      <td>40.721525</td>\n      <td>-74.046305</td>\n      <td>29444</td>\n      <td>Subscriber</td>\n      <td>1984</td>\n      <td>2</td>\n    </tr>\n    <tr>\n      <th>1</th>\n      <td>377</td>\n      <td>2020-01-01 00:16:01.6700</td>\n      <td>2020-01-01 00:22:19.0800</td>\n      <td>3186</td>\n      <td>Grove St PATH</td>\n      <td>40.719586</td>\n      <td>-74.043117</td>\n      <td>3269</td>\n      <td>Brunswick &amp; 6th</td>\n      <td>40.726012</td>\n      <td>-74.050389</td>\n      <td>26305</td>\n      <td>Subscriber</td>\n      <td>1989</td>\n      <td>2</td>\n    </tr>\n    <tr>\n      <th>2</th>\n      <td>288</td>\n      <td>2020-01-01 00:17:33.8770</td>\n      <td>2020-01-01 00:22:22.4420</td>\n      <td>3186</td>\n      <td>Grove St PATH</td>\n      <td>40.719586</td>\n      <td>-74.043117</td>\n      <td>3269</td>\n      <td>Brunswick &amp; 6th</td>\n      <td>40.726012</td>\n      <td>-74.050389</td>\n      <td>29268</td>\n      <td>Customer</td>\n      <td>1989</td>\n      <td>1</td>\n    </tr>\n    <tr>\n      <th>3</th>\n      <td>435</td>\n      <td>2020-01-01 00:32:05.9020</td>\n      <td>2020-01-01 00:39:21.0660</td>\n      <td>3195</td>\n      <td>Sip Ave</td>\n      <td>40.730897</td>\n      <td>-74.063913</td>\n      <td>3280</td>\n      <td>Astor Place</td>\n      <td>40.719282</td>\n      <td>-74.071262</td>\n      <td>29278</td>\n      <td>Customer</td>\n      <td>1969</td>\n      <td>0</td>\n    </tr>\n    <tr>\n      <th>4</th>\n      <td>231</td>\n      <td>2020-01-01 00:46:19.6780</td>\n      <td>2020-01-01 00:50:11.3440</td>\n      <td>3186</td>\n      <td>Grove St PATH</td>\n      <td>40.719586</td>\n      <td>-74.043117</td>\n      <td>3276</td>\n      <td>Marin Light Rail</td>\n      <td>40.714584</td>\n      <td>-74.042817</td>\n      <td>29276</td>\n      <td>Subscriber</td>\n      <td>1983</td>\n      <td>2</td>\n    </tr>\n  </tbody>\n</table>\n</div>",
      "text/plain": "   tripduration                 starttime                  stoptime  \\\n0           226  2020-01-01 00:04:50.1920  2020-01-01 00:08:37.0370   \n1           377  2020-01-01 00:16:01.6700  2020-01-01 00:22:19.0800   \n2           288  2020-01-01 00:17:33.8770  2020-01-01 00:22:22.4420   \n3           435  2020-01-01 00:32:05.9020  2020-01-01 00:39:21.0660   \n4           231  2020-01-01 00:46:19.6780  2020-01-01 00:50:11.3440   \n\n   start station id start station name  start station latitude  \\\n0              3186      Grove St PATH               40.719586   \n1              3186      Grove St PATH               40.719586   \n2              3186      Grove St PATH               40.719586   \n3              3195            Sip Ave               40.730897   \n4              3186      Grove St PATH               40.719586   \n\n   start station longitude  end station id  end station name  \\\n0               -74.043117            3211        Newark Ave   \n1               -74.043117            3269   Brunswick & 6th   \n2               -74.043117            3269   Brunswick & 6th   \n3               -74.063913            3280       Astor Place   \n4               -74.043117            3276  Marin Light Rail   \n\n   end station latitude  end station longitude  bikeid    usertype  \\\n0             40.721525             -74.046305   29444  Subscriber   \n1             40.726012             -74.050389   26305  Subscriber   \n2             40.726012             -74.050389   29268    Customer   \n3             40.719282             -74.071262   29278    Customer   \n4             40.714584             -74.042817   29276  Subscriber   \n\n   birth year  gender  \n0        1984       2  \n1        1989       2  \n2        1989       1  \n3        1969       0  \n4        1983       2  "
     },
     "execution_count": 6,
     "metadata": {},
     "output_type": "execute_result"
    }
   ],
   "source": [
    "df = pd.read_csv('JC-202001-citibike-tripdata.csv.zip')\n",
    "\n",
    "df.head()"
   ]
  },
  {
   "cell_type": "code",
   "execution_count": 7,
   "metadata": {},
   "outputs": [
    {
     "data": {
      "text/plain": "390300"
     },
     "execution_count": 7,
     "metadata": {},
     "output_type": "execute_result"
    }
   ],
   "source": [
    "df.size"
   ]
  },
  {
   "cell_type": "code",
   "execution_count": 8,
   "metadata": {},
   "outputs": [
    {
     "data": {
      "text/plain": "tripduration                 int64\nstarttime                   object\nstoptime                    object\nstart station id             int64\nstart station name          object\nstart station latitude     float64\nstart station longitude    float64\nend station id               int64\nend station name            object\nend station latitude       float64\nend station longitude      float64\nbikeid                       int64\nusertype                    object\nbirth year                   int64\ngender                       int64\ndtype: object"
     },
     "execution_count": 8,
     "metadata": {},
     "output_type": "execute_result"
    }
   ],
   "source": [
    "df.dtypes"
   ]
  },
  {
   "cell_type": "code",
   "execution_count": 9,
   "id": "900ccd52-dbee-4771-be8c-c5205e861790",
   "metadata": {},
   "outputs": [
    {
     "data": {
      "text/plain": [
       "array([2, 1, 0])"
      ]
     },
     "execution_count": 9,
     "metadata": {},
     "output_type": "execute_result"
    }
   ],
   "source": [
    "df.gender.unique()"
   ]
  }
 ],
 "metadata": {
  "kernelspec": {
   "display_name": "Python 3 (ipykernel)",
   "language": "python",
   "name": "python3"
  },
  "language_info": {
   "codemirror_mode": {
    "name": "ipython",
    "version": 3
   },
   "file_extension": ".py",
   "mimetype": "text/x-python",
   "name": "python",
   "nbconvert_exporter": "python",
   "pygments_lexer": "ipython3",
   "version": "3.8.11-final"
  }
 },
 "nbformat": 4,
 "nbformat_minor": 5
}